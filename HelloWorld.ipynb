{
  "nbformat": 4,
  "nbformat_minor": 0,
  "metadata": {
    "colab": {
      "name": "HelloWorld.ipynb",
      "provenance": [],
      "authorship_tag": "ABX9TyOXw0XvsgskU0fYvJCBNWIH",
      "include_colab_link": true
    },
    "kernelspec": {
      "name": "python3",
      "display_name": "Python 3"
    },
    "language_info": {
      "name": "python"
    }
  },
  "cells": [
    {
      "cell_type": "markdown",
      "metadata": {
        "id": "view-in-github",
        "colab_type": "text"
      },
      "source": [
        "<a href=\"https://colab.research.google.com/github/MelissaAPW/PracticeMarkdown/blob/main/HelloWorld.ipynb\" target=\"_parent\"><img src=\"https://colab.research.google.com/assets/colab-badge.svg\" alt=\"Open In Colab\"/></a>"
      ]
    },
    {
      "cell_type": "code",
      "metadata": {
        "colab": {
          "base_uri": "https://localhost:8080/",
          "height": 0
        },
        "id": "s9iSDLzMFRY2",
        "outputId": "f465c22a-7a60-4cba-fd28-412c506d4dd4"
      },
      "source": [
        "print(\"hello world\")"
      ],
      "execution_count": 3,
      "outputs": [
        {
          "output_type": "stream",
          "text": [
            "hello world\n"
          ],
          "name": "stdout"
        }
      ]
    },
    {
      "cell_type": "markdown",
      "metadata": {
        "id": "Ay2VO6GmZIin"
      },
      "source": [
        "It's very easy to make some words **bold** and other words *italic* with Markdown.  You can even [link to Google!](http://google.com)"
      ]
    },
    {
      "cell_type": "markdown",
      "metadata": {
        "id": "noKaNEizZdLG"
      },
      "source": [
        "**Hello World!** This may be my *first* day using [Google Colab](https://colab.research.google.com/),\n",
        "but it won't be my last!"
      ]
    },
    {
      "cell_type": "markdown",
      "metadata": {
        "id": "N47fApONcV3l"
      },
      "source": [
        ""
      ]
    }
  ]
}